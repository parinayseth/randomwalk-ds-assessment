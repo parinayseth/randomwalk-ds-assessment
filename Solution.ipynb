{
 "cells": [
  {
   "cell_type": "markdown",
   "metadata": {},
   "source": [
    "# Tradewalk DS Assessment"
   ]
  },
  {
   "cell_type": "markdown",
   "metadata": {},
   "source": [
    "## 1. Importing Necessary Libraries"
   ]
  },
  {
   "cell_type": "code",
   "execution_count": 132,
   "metadata": {},
   "outputs": [],
   "source": [
    "import pandas as pd\n",
    "import matplotlib.pyplot as plt\n",
    "import seaborn as sns\n",
    "import random\n"
   ]
  },
  {
   "cell_type": "markdown",
   "metadata": {},
   "source": [
    "## 2. Loading the dataset"
   ]
  },
  {
   "cell_type": "code",
   "execution_count": 101,
   "metadata": {},
   "outputs": [],
   "source": [
    "df = pd.read_csv('books.csv')"
   ]
  },
  {
   "cell_type": "code",
   "execution_count": 86,
   "metadata": {},
   "outputs": [
    {
     "data": {
      "text/html": [
       "<div>\n",
       "<style scoped>\n",
       "    .dataframe tbody tr th:only-of-type {\n",
       "        vertical-align: middle;\n",
       "    }\n",
       "\n",
       "    .dataframe tbody tr th {\n",
       "        vertical-align: top;\n",
       "    }\n",
       "\n",
       "    .dataframe thead th {\n",
       "        text-align: right;\n",
       "    }\n",
       "</style>\n",
       "<table border=\"1\" class=\"dataframe\">\n",
       "  <thead>\n",
       "    <tr style=\"text-align: right;\">\n",
       "      <th></th>\n",
       "      <th>book_id</th>\n",
       "      <th>goodreads_book_id</th>\n",
       "      <th>best_book_id</th>\n",
       "      <th>work_id</th>\n",
       "      <th>books_count</th>\n",
       "      <th>isbn</th>\n",
       "      <th>isbn13</th>\n",
       "      <th>authors</th>\n",
       "      <th>original_publication_year</th>\n",
       "      <th>original_title</th>\n",
       "      <th>...</th>\n",
       "      <th>work_ratings_count</th>\n",
       "      <th>work_text_reviews_count</th>\n",
       "      <th>ratings_1</th>\n",
       "      <th>ratings_2</th>\n",
       "      <th>ratings_3</th>\n",
       "      <th>ratings_4</th>\n",
       "      <th>ratings_5</th>\n",
       "      <th>image_url</th>\n",
       "      <th>small_image_url</th>\n",
       "      <th>NonEnglish</th>\n",
       "    </tr>\n",
       "  </thead>\n",
       "  <tbody>\n",
       "    <tr>\n",
       "      <th>68</th>\n",
       "      <td>1333</td>\n",
       "      <td>10883</td>\n",
       "      <td>10883</td>\n",
       "      <td>750514</td>\n",
       "      <td>30</td>\n",
       "      <td>074325807X</td>\n",
       "      <td>9.780743e+12</td>\n",
       "      <td>Walter Isaacson</td>\n",
       "      <td>2003.0</td>\n",
       "      <td>Benjamin Franklin: An American Life</td>\n",
       "      <td>...</td>\n",
       "      <td>71804</td>\n",
       "      <td>1386</td>\n",
       "      <td>3086</td>\n",
       "      <td>3391</td>\n",
       "      <td>13181</td>\n",
       "      <td>25649</td>\n",
       "      <td>26497</td>\n",
       "      <td>https://images.gr-assets.com/books/1397772877m...</td>\n",
       "      <td>https://images.gr-assets.com/books/1397772877s...</td>\n",
       "      <td>0</td>\n",
       "    </tr>\n",
       "    <tr>\n",
       "      <th>93</th>\n",
       "      <td>1978</td>\n",
       "      <td>14241</td>\n",
       "      <td>14241</td>\n",
       "      <td>1269768</td>\n",
       "      <td>34</td>\n",
       "      <td>143035746</td>\n",
       "      <td>9.780143e+12</td>\n",
       "      <td>Mary Karr</td>\n",
       "      <td>1995.0</td>\n",
       "      <td>The Liars' Club: A Memoir</td>\n",
       "      <td>...</td>\n",
       "      <td>47561</td>\n",
       "      <td>2259</td>\n",
       "      <td>950</td>\n",
       "      <td>2756</td>\n",
       "      <td>10793</td>\n",
       "      <td>17561</td>\n",
       "      <td>15501</td>\n",
       "      <td>https://images.gr-assets.com/books/1499665766m...</td>\n",
       "      <td>https://images.gr-assets.com/books/1499665766s...</td>\n",
       "      <td>0</td>\n",
       "    </tr>\n",
       "    <tr>\n",
       "      <th>41</th>\n",
       "      <td>787</td>\n",
       "      <td>7821447</td>\n",
       "      <td>7821447</td>\n",
       "      <td>10860635</td>\n",
       "      <td>39</td>\n",
       "      <td>61992704</td>\n",
       "      <td>9.780062e+12</td>\n",
       "      <td>Justin Halpern</td>\n",
       "      <td>2010.0</td>\n",
       "      <td>Sh*t My Dad Says</td>\n",
       "      <td>...</td>\n",
       "      <td>116368</td>\n",
       "      <td>7386</td>\n",
       "      <td>2279</td>\n",
       "      <td>6246</td>\n",
       "      <td>25054</td>\n",
       "      <td>40835</td>\n",
       "      <td>41954</td>\n",
       "      <td>https://images.gr-assets.com/books/1370399211m...</td>\n",
       "      <td>https://images.gr-assets.com/books/1370399211s...</td>\n",
       "      <td>0</td>\n",
       "    </tr>\n",
       "    <tr>\n",
       "      <th>305</th>\n",
       "      <td>7259</td>\n",
       "      <td>6818019</td>\n",
       "      <td>6818019</td>\n",
       "      <td>7026660</td>\n",
       "      <td>47</td>\n",
       "      <td>307589676</td>\n",
       "      <td>9.780308e+12</td>\n",
       "      <td>Nujood Ali, Delphine Minoui, Linda Coverdale</td>\n",
       "      <td>2009.0</td>\n",
       "      <td>Moi Nojoud, 10 ans, divorcée</td>\n",
       "      <td>...</td>\n",
       "      <td>15351</td>\n",
       "      <td>2294</td>\n",
       "      <td>169</td>\n",
       "      <td>1002</td>\n",
       "      <td>4480</td>\n",
       "      <td>5895</td>\n",
       "      <td>3805</td>\n",
       "      <td>https://images.gr-assets.com/books/1320467214m...</td>\n",
       "      <td>https://images.gr-assets.com/books/1320467214s...</td>\n",
       "      <td>0</td>\n",
       "    </tr>\n",
       "    <tr>\n",
       "      <th>124</th>\n",
       "      <td>2702</td>\n",
       "      <td>6114607</td>\n",
       "      <td>6114607</td>\n",
       "      <td>6292672</td>\n",
       "      <td>4</td>\n",
       "      <td>143116231</td>\n",
       "      <td>9.780143e+12</td>\n",
       "      <td>Jennifer Worth</td>\n",
       "      <td>2002.0</td>\n",
       "      <td>Call the midwife : a true story of the East En...</td>\n",
       "      <td>...</td>\n",
       "      <td>39141</td>\n",
       "      <td>5112</td>\n",
       "      <td>291</td>\n",
       "      <td>809</td>\n",
       "      <td>5844</td>\n",
       "      <td>17076</td>\n",
       "      <td>15121</td>\n",
       "      <td>https://s.gr-assets.com/assets/nophoto/book/11...</td>\n",
       "      <td>https://s.gr-assets.com/assets/nophoto/book/50...</td>\n",
       "      <td>0</td>\n",
       "    </tr>\n",
       "  </tbody>\n",
       "</table>\n",
       "<p>5 rows × 24 columns</p>\n",
       "</div>"
      ],
      "text/plain": [
       "     book_id  goodreads_book_id  best_book_id   work_id  books_count  \\\n",
       "68      1333              10883         10883    750514           30   \n",
       "93      1978              14241         14241   1269768           34   \n",
       "41       787            7821447       7821447  10860635           39   \n",
       "305     7259            6818019       6818019   7026660           47   \n",
       "124     2702            6114607       6114607   6292672            4   \n",
       "\n",
       "           isbn        isbn13                                       authors  \\\n",
       "68   074325807X  9.780743e+12                               Walter Isaacson   \n",
       "93    143035746  9.780143e+12                                     Mary Karr   \n",
       "41     61992704  9.780062e+12                                Justin Halpern   \n",
       "305   307589676  9.780308e+12  Nujood Ali, Delphine Minoui, Linda Coverdale   \n",
       "124   143116231  9.780143e+12                                Jennifer Worth   \n",
       "\n",
       "     original_publication_year  \\\n",
       "68                      2003.0   \n",
       "93                      1995.0   \n",
       "41                      2010.0   \n",
       "305                     2009.0   \n",
       "124                     2002.0   \n",
       "\n",
       "                                        original_title  ...  \\\n",
       "68                 Benjamin Franklin: An American Life  ...   \n",
       "93                           The Liars' Club: A Memoir  ...   \n",
       "41                                    Sh*t My Dad Says  ...   \n",
       "305                       Moi Nojoud, 10 ans, divorcée  ...   \n",
       "124  Call the midwife : a true story of the East En...  ...   \n",
       "\n",
       "    work_ratings_count work_text_reviews_count  ratings_1  ratings_2  \\\n",
       "68               71804                    1386       3086       3391   \n",
       "93               47561                    2259        950       2756   \n",
       "41              116368                    7386       2279       6246   \n",
       "305              15351                    2294        169       1002   \n",
       "124              39141                    5112        291        809   \n",
       "\n",
       "     ratings_3  ratings_4  ratings_5  \\\n",
       "68       13181      25649      26497   \n",
       "93       10793      17561      15501   \n",
       "41       25054      40835      41954   \n",
       "305       4480       5895       3805   \n",
       "124       5844      17076      15121   \n",
       "\n",
       "                                             image_url  \\\n",
       "68   https://images.gr-assets.com/books/1397772877m...   \n",
       "93   https://images.gr-assets.com/books/1499665766m...   \n",
       "41   https://images.gr-assets.com/books/1370399211m...   \n",
       "305  https://images.gr-assets.com/books/1320467214m...   \n",
       "124  https://s.gr-assets.com/assets/nophoto/book/11...   \n",
       "\n",
       "                                       small_image_url  NonEnglish  \n",
       "68   https://images.gr-assets.com/books/1397772877s...           0  \n",
       "93   https://images.gr-assets.com/books/1499665766s...           0  \n",
       "41   https://images.gr-assets.com/books/1370399211s...           0  \n",
       "305  https://images.gr-assets.com/books/1320467214s...           0  \n",
       "124  https://s.gr-assets.com/assets/nophoto/book/50...           0  \n",
       "\n",
       "[5 rows x 24 columns]"
      ]
     },
     "execution_count": 86,
     "metadata": {},
     "output_type": "execute_result"
    }
   ],
   "source": [
    "df.sample(5)"
   ]
  },
  {
   "cell_type": "markdown",
   "metadata": {},
   "source": [
    "## Q1. How many rows and columns are there in books.csv dataset?\n",
    "\n"
   ]
  },
  {
   "cell_type": "code",
   "execution_count": 87,
   "metadata": {},
   "outputs": [
    {
     "name": "stdout",
     "output_type": "stream",
     "text": [
      "There are 399 rows and 24 columns in the book dataset\n"
     ]
    }
   ],
   "source": [
    "rows = df.shape[0]\n",
    "columns = df.shape[1]\n",
    "print(f'There are {rows} rows and {columns} columns in the book dataset')"
   ]
  },
  {
   "cell_type": "markdown",
   "metadata": {},
   "source": [
    "## Q2. How many books do not have an original title?\n",
    "\n"
   ]
  },
  {
   "cell_type": "code",
   "execution_count": 88,
   "metadata": {},
   "outputs": [
    {
     "data": {
      "text/plain": [
       "book_id                       0\n",
       "goodreads_book_id             0\n",
       "best_book_id                  0\n",
       "work_id                       0\n",
       "books_count                   0\n",
       "isbn                         11\n",
       "isbn13                       10\n",
       "authors                       0\n",
       "original_publication_year     0\n",
       "original_title               36\n",
       "title                         0\n",
       "language_code                43\n",
       "average_rating                0\n",
       "ratings_count                 0\n",
       "work_ratings_count            0\n",
       "work_text_reviews_count       0\n",
       "ratings_1                     0\n",
       "ratings_2                     0\n",
       "ratings_3                     0\n",
       "ratings_4                     0\n",
       "ratings_5                     0\n",
       "image_url                     0\n",
       "small_image_url               0\n",
       "NonEnglish                    0\n",
       "dtype: int64"
      ]
     },
     "execution_count": 88,
     "metadata": {},
     "output_type": "execute_result"
    }
   ],
   "source": [
    "# checking for Null values\n",
    "df.isnull().sum() "
   ]
  },
  {
   "cell_type": "code",
   "execution_count": 89,
   "metadata": {},
   "outputs": [
    {
     "name": "stdout",
     "output_type": "stream",
     "text": [
      "isbn: object - Null Count: 11\n",
      "isbn13: float64 - Null Count: 10\n",
      "original_title: object - Null Count: 36\n",
      "language_code: object - Null Count: 43\n"
     ]
    }
   ],
   "source": [
    "# Get the list of columns with null values and their counts\n",
    "null_counts = df.isnull().sum()\n",
    "columns_with_null = null_counts[null_counts > 0].index.tolist()\n",
    "\n",
    "# Display data types and counts of null values for columns with null values\n",
    "for column in columns_with_null:\n",
    "    print(f\"{column}: {df[column].dtype} - Null Count: {null_counts[column]}\")"
   ]
  },
  {
   "cell_type": "code",
   "execution_count": 104,
   "metadata": {},
   "outputs": [
    {
     "name": "stdout",
     "output_type": "stream",
     "text": [
      "Books with no original title: 36\n"
     ]
    }
   ],
   "source": [
    "# Books with no original title\n",
    "\n",
    "books_with_no_title = df[df['original_title'].isnull()].shape[0]\n",
    "print(f\"Books with no original title: {books_with_no_title}\")"
   ]
  },
  {
   "cell_type": "markdown",
   "metadata": {},
   "source": [
    "## Q3: How many unique books are present in the dataset ? Evaluate based on the 'book_id' after removing null values in the original_title column."
   ]
  },
  {
   "cell_type": "code",
   "execution_count": 110,
   "metadata": {},
   "outputs": [
    {
     "name": "stdout",
     "output_type": "stream",
     "text": [
      "There are 399 unique books in the dataset\n",
      "........\n",
      "Random 5 from the list: [2288, 1515, 8901, 144, 4478]\n"
     ]
    }
   ],
   "source": [
    "# First finding total number of Unique book ids in the dataset\n",
    "\n",
    "unique_ids = df['book_id'].unique()\n",
    "print(f\"There are {len(unique_ids)} unique books in the dataset\")\n",
    "print(\"........\")\n",
    "random_ids = random.sample(list(unique_ids), 5)\n",
    "print(f\"Random 5 from the list: {random_ids}\")\n"
   ]
  },
  {
   "cell_type": "code",
   "execution_count": 105,
   "metadata": {},
   "outputs": [],
   "source": [
    "# Assigning \"Not provided\" to the null values in the original_title column\n",
    "\n",
    "df['original_title'].fillna(\"Not provided\", inplace=True)\n",
    "\n",
    "# Crosschecking NULL values in the original_title column\n",
    "books_with_no_title = df[df['original_title'].isnull()].shape[0]\n",
    "print(f\"Books with no original title: {books_with_no_title}\")"
   ]
  },
  {
   "cell_type": "code",
   "execution_count": 112,
   "metadata": {},
   "outputs": [
    {
     "name": "stdout",
     "output_type": "stream",
     "text": [
      "There are 363 unique books in the dataset\n",
      "........\n",
      "Random 5 from the list: [9522, 2885, 2788, 1031, 3142]\n"
     ]
    }
   ],
   "source": [
    "# Find the number of unique book ids in the dataset after removing the null values in the original_title column\n",
    "\n",
    "unique_ids = df[df['original_title'] != \"Not provided\"]['book_id'].unique()\n",
    "print(f\"There are {len(unique_ids)} unique books in the dataset after removing the null values in the original_title column\")\n",
    "print(\"........\")\n",
    "random_ids = random.sample(list(unique_ids), 5)\n",
    "print(f\"Random 5 from the list: {random_ids}\")"
   ]
  },
  {
   "cell_type": "markdown",
   "metadata": {},
   "source": [
    "## Q4. What is the average rating of all the books in the dataset based on ‘average_rating’?\n",
    "\n"
   ]
  },
  {
   "cell_type": "code",
   "execution_count": 113,
   "metadata": {},
   "outputs": [
    {
     "name": "stdout",
     "output_type": "stream",
     "text": [
      "The average rating of all books in the dataset is: 3.9837844611528817\n"
     ]
    }
   ],
   "source": [
    "average_rating = df['average_rating'].mean()\n",
    "\n",
    "print(f\"The average rating of all books in the dataset is: {average_rating}\")"
   ]
  },
  {
   "cell_type": "markdown",
   "metadata": {},
   "source": [
    "## Q5. Find the number of books published in the year ‘2000’ based on the ‘original_publication_year’.\n"
   ]
  },
  {
   "cell_type": "code",
   "execution_count": 133,
   "metadata": {},
   "outputs": [
    {
     "name": "stdout",
     "output_type": "stream",
     "text": [
      "The number of books published in the year 2000 is: 8\n"
     ]
    }
   ],
   "source": [
    "books_published_in_2000 = df[df['original_publication_year'] == 2000].shape[0]\n",
    "\n",
    "print(f\"The number of books published in the year 2000 is: {books_published_in_2000}\")"
   ]
  },
  {
   "cell_type": "markdown",
   "metadata": {},
   "source": [
    "## Q6. Which book (title) has the maximum number of ratings based on ‘work_ratings_count’.\n",
    "\n"
   ]
  },
  {
   "cell_type": "code",
   "execution_count": 134,
   "metadata": {},
   "outputs": [
    {
     "name": "stdout",
     "output_type": "stream",
     "text": [
      "The book with the highest number of ratings is 'The Diary of a Young Girl' with '2024493' ratings\n"
     ]
    }
   ],
   "source": [
    "max_ratings_book_title = df.loc[df['work_ratings_count'].idxmax()]['title']\n",
    "max_ratings_book = df['work_ratings_count'].max()\n",
    "\n",
    "print(f\"The book with the highest number of ratings is '{max_ratings_book_title}' with '{max_ratings_book}' ratings\")"
   ]
  },
  {
   "cell_type": "markdown",
   "metadata": {},
   "source": [
    "## Q7. Bucket the average_rating of books into 11 buckets [0, 0.5, 1.0, 1.5, 2.0, 2.5, 3.0, 3.5, 4.0, 4.5, 5.0] with 0.5 decimal rounding (eg: average_rating 3.0 to 3.49 will fall in bucket 3.0). Plot bar graph to show total number of books in each rating bucket."
   ]
  },
  {
   "cell_type": "code",
   "execution_count": 136,
   "metadata": {},
   "outputs": [],
   "source": [
    "bins = [0, 0.5, 1.0, 1.5, 2.0, 2.5, 3.0, 3.5, 4.0, 4.5, 5.0]\n",
    "\n",
    "# Create a new column 'rating_bucket' based on the bins\n",
    "df['rating_bucket'] = pd.cut(df['average_rating'], bins, right=False)\n",
    "\n",
    "# Group by 'rating_bucket' and count the number of books in each bucket\n",
    "bucket_counts = df.groupby('rating_bucket').size().reset_index(name='count')\n",
    "\n"
   ]
  },
  {
   "cell_type": "code",
   "execution_count": 135,
   "metadata": {},
   "outputs": [
    {
     "data": {
      "image/png": "[encoded data removed]",
      "text/plain": [
       "<Figure size 1000x600 with 1 Axes>"
      ]
     },
     "metadata": {},
     "output_type": "display_data"
    }
   ],
   "source": [
    "# Set the style using seaborn\n",
    "sns.set(style=\"whitegrid\")\n",
    "\n",
    "# Plot a bar graph\n",
    "plt.figure(figsize=(10, 6))\n",
    "ax = sns.barplot(x='rating_bucket', y='count', data=bucket_counts, palette='viridis')\n",
    "\n",
    "# Add labels and title\n",
    "plt.xlabel('Rating Bucket', fontsize=14)\n",
    "plt.ylabel('Number of Books', fontsize=14)\n",
    "plt.title('Number of Books in Each Rating Bucket', fontsize=16)\n",
    "\n",
    "# Display the count values on top of each bar\n",
    "for p in ax.patches:\n",
    "    ax.annotate(f'{p.get_height()}', (p.get_x() + p.get_width() / 2., p.get_height()),\n",
    "                ha='center', va='center', xytext=(0, 10), textcoords='offset points', fontsize=10)\n",
    "\n",
    "# Show the plot\n",
    "plt.show()"
   ]
  },
  {
   "cell_type": "code",
   "execution_count": null,
   "metadata": {},
   "outputs": [],
   "source": []
  }
 ],
 "metadata": {
  "kernelspec": {
   "display_name": "Python 3 (ipykernel)",
   "language": "python",
   "name": "python3"
  },
  "language_info": {
   "codemirror_mode": {
    "name": "ipython",
    "version": 3
   },
   "file_extension": ".py",
   "mimetype": "text/x-python",
   "name": "python",
   "nbconvert_exporter": "python",
   "pygments_lexer": "ipython3",
   "version": "3.11.3"
  }
 },
 "nbformat": 4,
 "nbformat_minor": 2
}
